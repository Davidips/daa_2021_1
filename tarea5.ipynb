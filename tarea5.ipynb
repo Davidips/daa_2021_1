{
  "nbformat": 4,
  "nbformat_minor": 0,
  "metadata": {
    "colab": {
      "name": "tarea5.ipynb",
      "provenance": [],
      "authorship_tag": "ABX9TyNvh6IXRWV+KbouCJYeOZo3",
      "include_colab_link": true
    },
    "kernelspec": {
      "name": "python3",
      "display_name": "Python 3"
    }
  },
  "cells": [
    {
      "cell_type": "markdown",
      "metadata": {
        "id": "view-in-github",
        "colab_type": "text"
      },
      "source": [
        "<a href=\"https://colab.research.google.com/github/Davidips/daa_2021_1/blob/master/tarea5.ipynb\" target=\"_parent\"><img src=\"https://colab.research.google.com/assets/colab-badge.svg\" alt=\"Open In Colab\"/></a>"
      ]
    },
    {
      "cell_type": "code",
      "metadata": {
        "id": "Fg7kbu1qXMkd",
        "outputId": "9551ac5e-c704-44b0-934f-b0ed801dfee7",
        "colab": {
          "base_uri": "https://localhost:8080/",
          "height": 357
        }
      },
      "source": [
        "\n",
        "def ejemplo1( n ):\n",
        "    start_time = time()\n",
        "    c = n + 1\n",
        "    d = c * n\n",
        "    e = n * n\n",
        "    total = c + e - d\n",
        "    print(f\"total={ total }\")\n",
        "\n",
        "    elapsed_time = time() - start_time\n",
        "    print(\"Tiempo transcurrido: %0.10f segundos.\" % elapsed_time)\n",
        "    \n",
        "\n",
        "for entrada in range(100,1100,100):\n",
        "  ejemplo1(entrada)"
      ],
      "execution_count": 4,
      "outputs": [
        {
          "output_type": "stream",
          "text": [
            "total=1\n",
            "Tiempo transcurrido: 0.0033254623 segundos.\n",
            "total=1\n",
            "Tiempo transcurrido: 0.0001924038 segundos.\n",
            "total=1\n",
            "Tiempo transcurrido: 0.0001504421 segundos.\n",
            "total=1\n",
            "Tiempo transcurrido: 0.0001239777 segundos.\n",
            "total=1\n",
            "Tiempo transcurrido: 0.0000171661 segundos.\n",
            "total=1\n",
            "Tiempo transcurrido: 0.0000138283 segundos.\n",
            "total=1\n",
            "Tiempo transcurrido: 0.0000224113 segundos.\n",
            "total=1\n",
            "Tiempo transcurrido: 0.0000231266 segundos.\n",
            "total=1\n",
            "Tiempo transcurrido: 0.0000228882 segundos.\n",
            "total=1\n",
            "Tiempo transcurrido: 0.0021686554 segundos.\n"
          ],
          "name": "stdout"
        }
      ]
    },
    {
      "cell_type": "code",
      "metadata": {
        "id": "jBeWD1DYX-os",
        "outputId": "b8fe3ce7-89e0-4ceb-9fa5-2d45f18bf549",
        "colab": {
          "base_uri": "https://localhost:8080/",
          "height": 187
        }
      },
      "source": [
        "def ejemplo2( n ):\n",
        "    start_time = time()\n",
        "    contador = 0\n",
        "    for i in range( n ) :\n",
        "        for j in range( n ) :\n",
        "            contador += 1\n",
        "    elapsed_time = time() - start_time\n",
        "    print(\"Tiempo transcurrido: %0.10f segundos.\" % elapsed_time)\n",
        "    return contador\n",
        "for entrada in range(100,1100,100):\n",
        "  ejemplo2(entrada )"
      ],
      "execution_count": 5,
      "outputs": [
        {
          "output_type": "stream",
          "text": [
            "Tiempo transcurrido: 0.0005602837 segundos.\n",
            "Tiempo transcurrido: 0.0027730465 segundos.\n",
            "Tiempo transcurrido: 0.0041069984 segundos.\n",
            "Tiempo transcurrido: 0.0076925755 segundos.\n",
            "Tiempo transcurrido: 0.0124523640 segundos.\n",
            "Tiempo transcurrido: 0.0229198933 segundos.\n",
            "Tiempo transcurrido: 0.0284016132 segundos.\n",
            "Tiempo transcurrido: 0.0343282223 segundos.\n",
            "Tiempo transcurrido: 0.0433561802 segundos.\n",
            "Tiempo transcurrido: 0.0564208031 segundos.\n"
          ],
          "name": "stdout"
        }
      ]
    },
    {
      "cell_type": "code",
      "metadata": {
        "id": "hUNbKA9UYawD",
        "outputId": "80e105b3-cb2f-4be1-b2aa-2937097bb1dc",
        "colab": {
          "base_uri": "https://localhost:8080/",
          "height": 187
        }
      },
      "source": [
        "def ejemplo3( n ):\n",
        "  start_time = time()\n",
        "  x = n * 2\n",
        "  y = 0 \n",
        "  for m in range(100):\n",
        "    y= x - n \n",
        "  elapsed_time = time() - start_time\n",
        "  print(\"Tiempo transcurrido: %0.10f segundos.\" % elapsed_time)\n",
        "  return y\n",
        "for entrada in range(100,1100,100):\n",
        "  ejemplo3(entrada)"
      ],
      "execution_count": 7,
      "outputs": [
        {
          "output_type": "stream",
          "text": [
            "Tiempo transcurrido: 0.0000047684 segundos.\n",
            "Tiempo transcurrido: 0.0000061989 segundos.\n",
            "Tiempo transcurrido: 0.0000092983 segundos.\n",
            "Tiempo transcurrido: 0.0000092983 segundos.\n",
            "Tiempo transcurrido: 0.0000088215 segundos.\n",
            "Tiempo transcurrido: 0.0000088215 segundos.\n",
            "Tiempo transcurrido: 0.0000085831 segundos.\n",
            "Tiempo transcurrido: 0.0000097752 segundos.\n",
            "Tiempo transcurrido: 0.0000081062 segundos.\n",
            "Tiempo transcurrido: 0.0000085831 segundos.\n"
          ],
          "name": "stdout"
        }
      ]
    },
    {
      "cell_type": "code",
      "metadata": {
        "id": "Rd4wZP0PY2bE"
      },
      "source": [
        ""
      ],
      "execution_count": null,
      "outputs": []
    },
    {
      "cell_type": "code",
      "metadata": {
        "id": "KSWRbeGlZX_v",
        "outputId": "27d09a76-3a43-4f57-fd71-819b3e4f7736",
        "colab": {
          "base_uri": "https://localhost:8080/",
          "height": 187
        }
      },
      "source": [
        "def ejemplo4( n ):\n",
        "  start_time = time()\n",
        "  x = 3 * 3.1416 + n\n",
        "  y = x + 3 * 3 - n\n",
        "  z = x + y\n",
        "  elapsed_time = time() - start_time\n",
        "  print(\"Tiempo transcurrido: %0.10f segundos.\" % elapsed_time)\n",
        "\n",
        "  return z\n",
        "for entrada in range(100,1100,100):\n",
        "  ejemplo4(entrada)\n",
        " "
      ],
      "execution_count": 17,
      "outputs": [
        {
          "output_type": "stream",
          "text": [
            "Tiempo transcurrido: 0.0000009537 segundos.\n",
            "Tiempo transcurrido: 0.0000007153 segundos.\n",
            "Tiempo transcurrido: 0.0000004768 segundos.\n",
            "Tiempo transcurrido: 0.0000002384 segundos.\n",
            "Tiempo transcurrido: 0.0000002384 segundos.\n",
            "Tiempo transcurrido: 0.0000002384 segundos.\n",
            "Tiempo transcurrido: 0.0000004768 segundos.\n",
            "Tiempo transcurrido: 0.0000009537 segundos.\n",
            "Tiempo transcurrido: 0.0000009537 segundos.\n",
            "Tiempo transcurrido: 0.0000007153 segundos.\n"
          ],
          "name": "stdout"
        }
      ]
    },
    {
      "cell_type": "code",
      "metadata": {
        "id": "kpXHbXM_bD6O",
        "outputId": "4d9a829e-eed5-4e6f-89ce-5e8df834a32e",
        "colab": {
          "base_uri": "https://localhost:8080/",
          "height": 187
        }
      },
      "source": [
        "def ejemplo5( x ):\n",
        "    start_time = time()\n",
        "    n = 10\n",
        "    for j in range( 0 , x , 1 ):\n",
        "        n = j + n\n",
        "    elapsed_time = time() - start_time\n",
        "    print(\"Tiempo transcurrido: %0.10f segundos.\" % elapsed_time)\n",
        "    return n\n",
        "for entrada in range(100,1100,100):\n",
        "  ejemplo5(entrada)"
      ],
      "execution_count": 18,
      "outputs": [
        {
          "output_type": "stream",
          "text": [
            "Tiempo transcurrido: 0.0000092983 segundos.\n",
            "Tiempo transcurrido: 0.0000171661 segundos.\n",
            "Tiempo transcurrido: 0.0000240803 segundos.\n",
            "Tiempo transcurrido: 0.0000288486 segundos.\n",
            "Tiempo transcurrido: 0.0000426769 segundos.\n",
            "Tiempo transcurrido: 0.0000495911 segundos.\n",
            "Tiempo transcurrido: 0.0000627041 segundos.\n",
            "Tiempo transcurrido: 0.0000751019 segundos.\n",
            "Tiempo transcurrido: 0.0000948906 segundos.\n",
            "Tiempo transcurrido: 0.0000948906 segundos.\n"
          ],
          "name": "stdout"
        }
      ]
    },
    {
      "cell_type": "code",
      "metadata": {
        "id": "8Vg9eTY0bW8y",
        "outputId": "395ebd29-178b-4dfc-c3a8-711025ee803b",
        "colab": {
          "base_uri": "https://localhost:8080/",
          "height": 187
        }
      },
      "source": [
        "def ejemplo6( n ):\n",
        "    start_time = time()\n",
        "    data=[[[1 for x in range(n)] for x in range(n)]\n",
        "          for x in range(n)]\n",
        "    suma = 0\n",
        "    for d in range(n):\n",
        "        for r in range(n):\n",
        "            for c in range(n):\n",
        "                suma += data[d][r][c]\n",
        "    elapsed_time = time() - start_time\n",
        "    print(\"Tiempo transcurrido: %0.10f segundos.\" % elapsed_time)\n",
        "    return suma\n",
        "for entrada in range(100,1100,100):\n",
        "  ejemplo6(entrada)"
      ],
      "execution_count": 19,
      "outputs": [
        {
          "output_type": "stream",
          "text": [
            "Tiempo transcurrido: 0.1900041103 segundos.\n",
            "Tiempo transcurrido: 1.0157248974 segundos.\n",
            "Tiempo transcurrido: 3.6247894764 segundos.\n",
            "Tiempo transcurrido: 9.4906835556 segundos.\n",
            "Tiempo transcurrido: 17.7030539513 segundos.\n",
            "Tiempo transcurrido: 32.4627053738 segundos.\n",
            "Tiempo transcurrido: 51.8274359703 segundos.\n",
            "Tiempo transcurrido: 77.4117968082 segundos.\n",
            "Tiempo transcurrido: 111.3801238537 segundos.\n",
            "Tiempo transcurrido: 158.6797108650 segundos.\n"
          ],
          "name": "stdout"
        }
      ]
    }
  ]
}