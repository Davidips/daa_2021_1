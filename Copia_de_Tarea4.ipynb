{
  "nbformat": 4,
  "nbformat_minor": 0,
  "metadata": {
    "colab": {
      "name": "Copia de Tarea4.ipynb",
      "provenance": [],
      "collapsed_sections": [],
      "authorship_tag": "ABX9TyORW1sWSm5jWQy2dxU/k7SU",
      "include_colab_link": true
    },
    "kernelspec": {
      "name": "python3",
      "display_name": "Python 3"
    }
  },
  "cells": [
    {
      "cell_type": "markdown",
      "metadata": {
        "id": "view-in-github",
        "colab_type": "text"
      },
      "source": [
        "<a href=\"https://colab.research.google.com/github/Davidips/daa_2021_1/blob/master/Copia_de_Tarea4.ipynb\" target=\"_parent\"><img src=\"https://colab.research.google.com/assets/colab-badge.svg\" alt=\"Open In Colab\"/></a>"
      ]
    },
    {
      "cell_type": "code",
      "metadata": {
        "id": "uF2FbstGkrmh"
      },
      "source": [
        "def ejemplo (n):\n",
        "  count = 0\n",
        "  i = n \n",
        "  print(\"Primer nivel\")\n",
        "  while i>= 1:\n",
        "    count += 1\n",
        "    i = 1 // 2\n",
        "  basura = 3+2\n",
        "  print(\"segundo nivel\")\n",
        "  return count \n",
        " "
      ],
      "execution_count": null,
      "outputs": []
    },
    {
      "cell_type": "code",
      "metadata": {
        "id": "4B7Cqy_IU2GW"
      },
      "source": [
        ""
      ],
      "execution_count": null,
      "outputs": []
    }
  ]
}