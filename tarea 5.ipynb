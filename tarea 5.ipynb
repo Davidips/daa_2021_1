{
  "nbformat": 4,
  "nbformat_minor": 0,
  "metadata": {
    "colab": {
      "name": "tarea5.ipynb",
      "provenance": [],
      "authorship_tag": "ABX9TyO5cSMuXwCackpjc1Io/HEV",
      "include_colab_link": true
    },
    "kernelspec": {
      "name": "python3",
      "display_name": "Python 3"
    }
  },
  "cells": [
    {
      "cell_type": "markdown",
      "metadata": {
        "id": "view-in-github",
        "colab_type": "text"
      },
      "source": [
        "<a href=\"https://colab.research.google.com/github/Davidips/daa_2021_1/blob/master/tarea%205.ipynb\" target=\"_parent\"><img src=\"https://colab.research.google.com/assets/colab-badge.svg\" alt=\"Open In Colab\"/></a>"
      ]
    },
    {
      "cell_type": "code",
      "metadata": {
        "id": "Fg7kbu1qXMkd",
        "outputId": "f66f60aa-1d94-4df3-e206-462fb5cdeedd",
        "colab": {
          "base_uri": "https://localhost:8080/",
          "height": 357
        }
      },
      "source": [
        "from time import time\n",
        "\n",
        "def ejemplo1( n ):\n",
        "    start_time = time()\n",
        "    c = n + 1\n",
        "    d = c * n\n",
        "    e = n * n\n",
        "    total = c + e - d\n",
        "    print(f\"total={ total }\")\n",
        "\n",
        "    elapsed_time = time() - start_time\n",
        "    print(\"Tiempo transcurrido: %0.10f segundos.\" % elapsed_time)\n",
        "    \n",
        "\n",
        "for entrada in range(100,1100,100):\n",
        "  ejemplo1(entrada)"
      ],
      "execution_count": 3,
      "outputs": [
        {
          "output_type": "stream",
          "text": [
            "total=1\n",
            "Tiempo transcurrido: 0.0001206398 segundos.\n",
            "total=1\n",
            "Tiempo transcurrido: 0.0000214577 segundos.\n",
            "total=1\n",
            "Tiempo transcurrido: 0.0000202656 segundos.\n",
            "total=1\n",
            "Tiempo transcurrido: 0.0000197887 segundos.\n",
            "total=1\n",
            "Tiempo transcurrido: 0.0000207424 segundos.\n",
            "total=1\n",
            "Tiempo transcurrido: 0.0000209808 segundos.\n",
            "total=1\n",
            "Tiempo transcurrido: 0.0000202656 segundos.\n",
            "total=1\n",
            "Tiempo transcurrido: 0.0000193119 segundos.\n",
            "total=1\n",
            "Tiempo transcurrido: 0.0000166893 segundos.\n",
            "total=1\n",
            "Tiempo transcurrido: 0.0000193119 segundos.\n"
          ],
          "name": "stdout"
        }
      ]
    },
    {
      "cell_type": "code",
      "metadata": {
        "id": "jBeWD1DYX-os",
        "outputId": "1a84ed08-d314-4333-dfca-919b45e24543",
        "colab": {
          "base_uri": "https://localhost:8080/",
          "height": 187
        }
      },
      "source": [
        "from time import time\n",
        "\n",
        "def ejemplo2( n ):\n",
        "    start_time = time()\n",
        "    contador = 0\n",
        "    for i in range( n ) :\n",
        "        for j in range( n ) :\n",
        "            contador += 1\n",
        "    elapsed_time = time() - start_time\n",
        "    print(\"Tiempo transcurrido: %0.10f segundos.\" % elapsed_time)\n",
        "    return contador\n",
        "for entrada in range(100,1100,100):\n",
        "  ejemplo2(entrada )"
      ],
      "execution_count": 4,
      "outputs": [
        {
          "output_type": "stream",
          "text": [
            "Tiempo transcurrido: 0.0007319450 segundos.\n",
            "Tiempo transcurrido: 0.0018033981 segundos.\n",
            "Tiempo transcurrido: 0.0094327927 segundos.\n",
            "Tiempo transcurrido: 0.0103983879 segundos.\n",
            "Tiempo transcurrido: 0.0130970478 segundos.\n",
            "Tiempo transcurrido: 0.0186266899 segundos.\n",
            "Tiempo transcurrido: 0.0257062912 segundos.\n",
            "Tiempo transcurrido: 0.0331761837 segundos.\n",
            "Tiempo transcurrido: 0.0418469906 segundos.\n",
            "Tiempo transcurrido: 0.0538105965 segundos.\n"
          ],
          "name": "stdout"
        }
      ]
    },
    {
      "cell_type": "code",
      "metadata": {
        "id": "hUNbKA9UYawD",
        "outputId": "dcb12b49-27f1-4afa-d8a9-50616538a625",
        "colab": {
          "base_uri": "https://localhost:8080/",
          "height": 187
        }
      },
      "source": [
        "from time import time\n",
        "\n",
        "def ejemplo3( n ):\n",
        "  start_time = time()\n",
        "  x = n * 2\n",
        "  y = 0 \n",
        "  for m in range(100):\n",
        "    y= x - n \n",
        "  elapsed_time = time() - start_time\n",
        "  print(\"Tiempo transcurrido: %0.10f segundos.\" % elapsed_time)\n",
        "  return y\n",
        "for entrada in range(100,1100,100):\n",
        "  ejemplo3(entrada)"
      ],
      "execution_count": 5,
      "outputs": [
        {
          "output_type": "stream",
          "text": [
            "Tiempo transcurrido: 0.0000050068 segundos.\n",
            "Tiempo transcurrido: 0.0000073910 segundos.\n",
            "Tiempo transcurrido: 0.0000095367 segundos.\n",
            "Tiempo transcurrido: 0.0000090599 segundos.\n",
            "Tiempo transcurrido: 0.0000088215 segundos.\n",
            "Tiempo transcurrido: 0.0000083447 segundos.\n",
            "Tiempo transcurrido: 0.0000095367 segundos.\n",
            "Tiempo transcurrido: 0.0000090599 segundos.\n",
            "Tiempo transcurrido: 0.0000083447 segundos.\n",
            "Tiempo transcurrido: 0.0000085831 segundos.\n"
          ],
          "name": "stdout"
        }
      ]
    },
    {
      "cell_type": "code",
      "metadata": {
        "id": "Rd4wZP0PY2bE"
      },
      "source": [
        ""
      ],
      "execution_count": null,
      "outputs": []
    },
    {
      "cell_type": "code",
      "metadata": {
        "id": "KSWRbeGlZX_v",
        "outputId": "046d25ee-fcc0-4625-bab3-443cffb7ba67",
        "colab": {
          "base_uri": "https://localhost:8080/",
          "height": 187
        }
      },
      "source": [
        "from time import time\n",
        "\n",
        "def ejemplo4( n ):\n",
        "  start_time = time()\n",
        "  x = 3 * 3.1416 + n\n",
        "  y = x + 3 * 3 - n\n",
        "  z = x + y\n",
        "  elapsed_time = time() - start_time\n",
        "  print(\"Tiempo transcurrido: %0.10f segundos.\" % elapsed_time)\n",
        "\n",
        "  return z\n",
        "for entrada in range(100,1100,100):\n",
        "  ejemplo4(entrada)\n",
        " "
      ],
      "execution_count": 6,
      "outputs": [
        {
          "output_type": "stream",
          "text": [
            "Tiempo transcurrido: 0.0000011921 segundos.\n",
            "Tiempo transcurrido: 0.0000011921 segundos.\n",
            "Tiempo transcurrido: 0.0000004768 segundos.\n",
            "Tiempo transcurrido: 0.0000004768 segundos.\n",
            "Tiempo transcurrido: 0.0000004768 segundos.\n",
            "Tiempo transcurrido: 0.0000004768 segundos.\n",
            "Tiempo transcurrido: 0.0000002384 segundos.\n",
            "Tiempo transcurrido: 0.0000002384 segundos.\n",
            "Tiempo transcurrido: 0.0000004768 segundos.\n",
            "Tiempo transcurrido: 0.0000004768 segundos.\n"
          ],
          "name": "stdout"
        }
      ]
    },
    {
      "cell_type": "code",
      "metadata": {
        "id": "kpXHbXM_bD6O",
        "outputId": "9394b0c9-52ea-424f-fdba-f5da8e907cbd",
        "colab": {
          "base_uri": "https://localhost:8080/",
          "height": 187
        }
      },
      "source": [
        "from time import time\n",
        "\n",
        "def ejemplo5( x ):\n",
        "    start_time = time()\n",
        "    n = 10\n",
        "    for j in range( 0 , x , 1 ):\n",
        "        n = j + n\n",
        "    elapsed_time = time() - start_time\n",
        "    print(\"Tiempo transcurrido: %0.10f segundos.\" % elapsed_time)\n",
        "    return n\n",
        "for entrada in range(100,1100,100):\n",
        "  ejemplo5(entrada)"
      ],
      "execution_count": 7,
      "outputs": [
        {
          "output_type": "stream",
          "text": [
            "Tiempo transcurrido: 0.0000069141 segundos.\n",
            "Tiempo transcurrido: 0.0000188351 segundos.\n",
            "Tiempo transcurrido: 0.0000271797 segundos.\n",
            "Tiempo transcurrido: 0.0000381470 segundos.\n",
            "Tiempo transcurrido: 0.0000529289 segundos.\n",
            "Tiempo transcurrido: 0.0000445843 segundos.\n",
            "Tiempo transcurrido: 0.0000569820 segundos.\n",
            "Tiempo transcurrido: 0.0000627041 segundos.\n",
            "Tiempo transcurrido: 0.0000648499 segundos.\n",
            "Tiempo transcurrido: 0.0000832081 segundos.\n"
          ],
          "name": "stdout"
        }
      ]
    },
    {
      "cell_type": "code",
      "metadata": {
        "id": "8Vg9eTY0bW8y",
        "outputId": "de4ad54e-a4f2-4e73-ad30-44dbf363107a",
        "colab": {
          "base_uri": "https://localhost:8080/",
          "height": 187
        }
      },
      "source": [
        "from time import time\n",
        "\n",
        "def ejemplo6( n ):\n",
        "    start_time = time()\n",
        "    data=[[[1 for x in range(n)] for x in range(n)]\n",
        "          for x in range(n)]\n",
        "    suma = 0\n",
        "    for d in range(n):\n",
        "        for r in range(n):\n",
        "            for c in range(n):\n",
        "                suma += data[d][r][c]\n",
        "    elapsed_time = time() - start_time\n",
        "    print(\"Tiempo transcurrido: %0.10f segundos.\" % elapsed_time)\n",
        "    return suma\n",
        "for entrada in range(100,1100,100):\n",
        "  ejemplo6(entrada)"
      ],
      "execution_count": 8,
      "outputs": [
        {
          "output_type": "stream",
          "text": [
            "Tiempo transcurrido: 0.2002239227 segundos.\n",
            "Tiempo transcurrido: 1.1365516186 segundos.\n",
            "Tiempo transcurrido: 3.8339779377 segundos.\n",
            "Tiempo transcurrido: 9.6050658226 segundos.\n",
            "Tiempo transcurrido: 17.8424408436 segundos.\n",
            "Tiempo transcurrido: 33.0207693577 segundos.\n",
            "Tiempo transcurrido: 52.2113974094 segundos.\n",
            "Tiempo transcurrido: 79.1395249367 segundos.\n",
            "Tiempo transcurrido: 114.6987433434 segundos.\n",
            "Tiempo transcurrido: 158.2410972118 segundos.\n"
          ],
          "name": "stdout"
        }
      ]
    }
  ]
}