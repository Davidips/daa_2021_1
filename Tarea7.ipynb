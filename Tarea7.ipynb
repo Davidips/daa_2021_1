{
  "nbformat": 4,
  "nbformat_minor": 0,
  "metadata": {
    "colab": {
      "name": "Tarea7.ipynb",
      "provenance": [],
      "authorship_tag": "ABX9TyMAUo13JPKAV9F3+/J3dm76",
      "include_colab_link": true
    },
    "kernelspec": {
      "name": "python3",
      "display_name": "Python 3"
    }
  },
  "cells": [
    {
      "cell_type": "markdown",
      "metadata": {
        "id": "view-in-github",
        "colab_type": "text"
      },
      "source": [
        "<a href=\"https://colab.research.google.com/github/Davidips/daa_2021_1/blob/master/Tarea7.ipynb\" target=\"_parent\"><img src=\"https://colab.research.google.com/assets/colab-badge.svg\" alt=\"Open In Colab\"/></a>"
      ]
    },
    {
      "cell_type": "code",
      "metadata": {
        "colab": {
          "base_uri": "https://localhost:8080/"
        },
        "id": "BqdbScvYlsve",
        "outputId": "beb95dc3-6c9c-4c60-ced9-9c926d2b5d94"
      },
      "source": [
        "def sumalista(listaNumeros):\n",
        "   if len(listaNumeros) == 1:\n",
        "        return listaNumeros[0]\n",
        "   else:\n",
        "        return listaNumeros[0] + sumalista(listaNumeros[1:])\n",
        "\n",
        "print(sumalista([1,3,5,7,9]))\n"
      ],
      "execution_count": 17,
      "outputs": [
        {
          "output_type": "stream",
          "text": [
            "25\n"
          ],
          "name": "stdout"
        }
      ]
    },
    {
      "cell_type": "code",
      "metadata": {
        "colab": {
          "base_uri": "https://localhost:8080/"
        },
        "id": "bmNpAHaas9DW",
        "outputId": "6646c369-8e22-44c7-cf0d-7b950224f6c6"
      },
      "source": [
        "def cuenta_regresiva(numero):\n",
        "  numero -= 1\n",
        "  if numero > 0:\n",
        "    print(numero)\n",
        "    cuenta_regresiva(numero)\n",
        "  else:\n",
        "    print(\"Fin de la función\")\n",
        "cuenta_regresiva(20)"
      ],
      "execution_count": 20,
      "outputs": [
        {
          "output_type": "stream",
          "text": [
            "19\n",
            "18\n",
            "17\n",
            "16\n",
            "15\n",
            "14\n",
            "13\n",
            "12\n",
            "11\n",
            "10\n",
            "9\n",
            "8\n",
            "7\n",
            "6\n",
            "5\n",
            "4\n",
            "3\n",
            "2\n",
            "1\n",
            "Fin de la función\n"
          ],
          "name": "stdout"
        }
      ]
    },
    {
      "cell_type": "code",
      "metadata": {
        "id": "n2SCQ6aQteNg"
      },
      "source": [
        ""
      ],
      "execution_count": null,
      "outputs": []
    }
  ]
}