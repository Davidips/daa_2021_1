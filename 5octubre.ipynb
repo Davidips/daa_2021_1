{
  "nbformat": 4,
  "nbformat_minor": 0,
  "metadata": {
    "colab": {
      "name": "5octubre.ipynb",
      "provenance": [],
      "authorship_tag": "ABX9TyOj870AZuUx6y1HbHZVx+GP",
      "include_colab_link": true
    },
    "kernelspec": {
      "name": "python3",
      "display_name": "Python 3"
    }
  },
  "cells": [
    {
      "cell_type": "markdown",
      "metadata": {
        "id": "view-in-github",
        "colab_type": "text"
      },
      "source": [
        "<a href=\"https://colab.research.google.com/github/Davidips/daa_2021_1/blob/master/5octubre.ipynb\" target=\"_parent\"><img src=\"https://colab.research.google.com/assets/colab-badge.svg\" alt=\"Open In Colab\"/></a>"
      ]
    },
    {
      "cell_type": "markdown",
      "metadata": {
        "id": "Ww4QtJRxABMD"
      },
      "source": [
        "# Estructura de datos Pila (Stack)\n",
        "\n",
        "- Last in First out (LIFO)\n",
        "- De tipo lineal \n",
        "- Se puede obtener datos e ingresar datos desde el tope\n",
        "- push para agregar \n",
        "- pop para sacar \n",
        "\n",
        "# Operaciones de las pilas \n",
        "\n",
        "1. is_empty(regresa true o false)\n",
        "2. get_top (regresa el elemento en el tope SIN SACARLO)\n",
        "3. pop(Saca el elemento del tope y lo regresa)\n",
        "4. push(Mete un elemento en el tope)\n",
        "5. get_legth(regresa el numero de elementos de la pila)"
      ]
    },
    {
      "cell_type": "code",
      "metadata": {
        "id": "dQq77615_WIY"
      },
      "source": [
        "class Stack:\n",
        "  def __init__(self):\n",
        "    self.__datos = []\n",
        "    \n",
        "  def is_empty(self):\n",
        "    return len(self.__datos) == 0\n",
        "\n",
        "  def get_top(self):\n",
        "    return self.__datos[-1]\n",
        "  \n",
        "  def pop(self):\n",
        "    return self.__datos.pop()\n",
        "\n",
        "  def push(self,valor):\n",
        "    self.__datos.append(valor)\n",
        "\n",
        "  def get_legth(self):\n",
        "    return len(self.__datos)\n",
        "\n",
        "  def to_string(self):\n",
        "    print(\"|============|\")\n",
        "    for ele in self.__datos:\n",
        "      print(f\"{ele}\")\n",
        "    print(\"|============|\\n\")"
      ],
      "execution_count": 13,
      "outputs": []
    },
    {
      "cell_type": "code",
      "metadata": {
        "id": "HXCm_7qdFSvr",
        "outputId": "8428bd61-5730-43a0-cadf-066a1dd08f8b",
        "colab": {
          "base_uri": "https://localhost:8080/",
          "height": 646
        }
      },
      "source": [
        "pila1 = Stack()\n",
        "pila1.push(10)\n",
        "pila1.push(20)\n",
        "pila1.push(1)\n",
        "pila1.push(393)\n",
        "pila1.push(103)\n",
        "pila1.to_string()\n",
        "\n",
        "sacado = pila1.pop()\n",
        "print(sacado)\n",
        "pila1.to_string()\n",
        "\n",
        "pila1.push(444)\n",
        "pila1.push(233)\n",
        "pila1.to_string()\n",
        "\n",
        "print(f\"El elemento en el tope es:{pila1.get_top()}\")\n",
        "pila1.to_string()\n",
        "print(f\"La pila tiene{pila1.get_legth()}elementos\")\n",
        "print(f\"¿La pila esta vacia?: {pila1.is_empty()}\")"
      ],
      "execution_count": 14,
      "outputs": [
        {
          "output_type": "stream",
          "text": [
            "|============|\n",
            "10\n",
            "20\n",
            "1\n",
            "393\n",
            "103\n",
            "|============|\n",
            "\n",
            "103\n",
            "|============|\n",
            "10\n",
            "20\n",
            "1\n",
            "393\n",
            "|============|\n",
            "\n",
            "|============|\n",
            "10\n",
            "20\n",
            "1\n",
            "393\n",
            "444\n",
            "233\n",
            "|============|\n",
            "\n",
            "El elemento en el tope es:233\n",
            "|============|\n",
            "10\n",
            "20\n",
            "1\n",
            "393\n",
            "444\n",
            "233\n",
            "|============|\n",
            "\n",
            "La pila tiene6elementos\n",
            "¿La pila esta vacia?: False\n"
          ],
          "name": "stdout"
        }
      ]
    },
    {
      "cell_type": "markdown",
      "metadata": {
        "id": "KAUxfU68JIX1"
      },
      "source": [
        "# ejemplo de aplicacion de pilas \n",
        "\n",
        "x = 4 + 5 + 6 + 3\n",
        "\n",
        "x = 4 + (5 + 6) + 3\n",
        "\n",
        "x = 4 + 5 + 6) + 3\n",
        "\n",
        "x = (4 + (5 + 6) + 3)\n",
        "\n",
        "if(a==b){ System.out.println(b)\n",
        "\n",
        "if(a==b){ System.outprintln(b}\n",
        "\n",
        "# reglas \n",
        "### '(' -> push('@')\n",
        "### ')' -> pop()\n",
        "\n",
        "Si al final del recorrido la pila esta vacia , entonces la cadena es correcta.\n",
        "Si en un pop desencadena en querer sacar un elemento de la pila vacia que significa que la cadena no esta balanceada.\n",
        "\n"
      ]
    },
    {
      "cell_type": "markdown",
      "metadata": {
        "id": "202vTLdfNRUS"
      },
      "source": [
        "# Tarea \n",
        "Hacer un programa que valide el balanceo de '( )' , '[]' y '{}' en programa del lenguaje C y java \n",
        "\n",
        "tomando como base el codigo de la clase"
      ]
    }
  ]
}