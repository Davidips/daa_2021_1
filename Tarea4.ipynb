{
  "nbformat": 4,
  "nbformat_minor": 0,
  "metadata": {
    "colab": {
      "name": "Tarea4.ipynb",
      "provenance": [],
      "authorship_tag": "ABX9TyMvrYwNBa0OdCaSgKa6e/b7",
      "include_colab_link": true
    },
    "kernelspec": {
      "name": "python3",
      "display_name": "Python 3"
    }
  },
  "cells": [
    {
      "cell_type": "markdown",
      "metadata": {
        "id": "view-in-github",
        "colab_type": "text"
      },
      "source": [
        "<a href=\"https://colab.research.google.com/github/Davidips/daa_2021_1/blob/master/Tarea4.ipynb\" target=\"_parent\"><img src=\"https://colab.research.google.com/assets/colab-badge.svg\" alt=\"Open In Colab\"/></a>"
      ]
    },
    {
      "cell_type": "code",
      "metadata": {
        "id": "uF2FbstGkrmh"
      },
      "source": [
        "def ejemplo (n):\n",
        "  count = 0\n",
        "  i = n \n",
        "  print(\"Primer nivel\")\n",
        "  while i>= 1:\n",
        "    count += 1\n",
        "    i = 1 // 2\n",
        "  basura = 3+2\n",
        "  print(\"segundo nivel\")\n",
        "  return count \n",
        "  print(\"Segundo nivel\")"
      ],
      "execution_count": 4,
      "outputs": []
    }
  ]
}